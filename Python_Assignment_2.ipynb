{
  "nbformat": 4,
  "nbformat_minor": 0,
  "metadata": {
    "colab": {
      "name": "Python Assignment - 2.ipynb",
      "provenance": [],
      "collapsed_sections": [],
      "authorship_tag": "ABX9TyOK0zYSG9HvWfHQMb8JyHMo",
      "include_colab_link": true
    },
    "kernelspec": {
      "name": "python3",
      "display_name": "Python 3"
    }
  },
  "cells": [
    {
      "cell_type": "markdown",
      "metadata": {
        "id": "view-in-github",
        "colab_type": "text"
      },
      "source": [
        "<a href=\"https://colab.research.google.com/github/srividya-123/Python-Assignment-/blob/master/Python_Assignment_2.ipynb\" target=\"_parent\"><img src=\"https://colab.research.google.com/assets/colab-badge.svg\" alt=\"Open In Colab\"/></a>"
      ]
    },
    {
      "cell_type": "code",
      "metadata": {
        "id": "0vURF4bUQ6aW",
        "colab_type": "code",
        "colab": {
          "base_uri": "https://localhost:8080/",
          "height": 51
        },
        "outputId": "a3669a0e-fa3e-4989-d09d-3fd1ce6b05f7"
      },
      "source": [
        "#Question 1\n",
        "year=int(input(\"Enter the year\")) \n",
        "if year%12==0:\n",
        "   print(\"monkey\")\n",
        "elif year%12==1:\n",
        "   print(\"rooster\")\n",
        "elif year%12==2:\n",
        "   print(\"dog\") \n",
        "elif year%12==3:\n",
        "   print(\"pig\") \n",
        "elif year%12==4:\n",
        "   print(\"rat\")\n",
        "elif year%12==5:\n",
        "   print(\"ox\") \n",
        "elif year%12==6:\n",
        "   print(\"rabbit\") \n",
        "elif year%12==7:\n",
        "   print(\"tiger\") \n",
        "elif year%12==8:\n",
        "   print(\"dragon\")\n",
        "elif year%12==9:\n",
        "   print(\"snake\") \n",
        "elif year%12==10:\n",
        "   print(\"horse\")\n",
        "else:\n",
        "   print(\"sheep\")"
      ],
      "execution_count": null,
      "outputs": [
        {
          "output_type": "stream",
          "text": [
            "Enter the year4\n",
            "rat\n"
          ],
          "name": "stdout"
        }
      ]
    },
    {
      "cell_type": "code",
      "metadata": {
        "id": "E2F-vgt2GUdq",
        "colab_type": "code",
        "colab": {
          "base_uri": "https://localhost:8080/",
          "height": 68
        },
        "outputId": "3e86b78d-b7e2-4317-93cc-c03f7b88bc2a"
      },
      "source": [
        "#Question 2\n",
        "D=int(input(\"distance to be travel:\")) \n",
        "w=int(input(\"weight of goods:\")) \n",
        "if D>=500:\n",
        "   if w>=100:\n",
        "      print(\"Amount to be Charged:\",5*D)\n",
        "   elif w>=10 or w<100:\n",
        "      print(\"Amount to be charged:\",6*D)\n",
        "   else:\n",
        "      print(\"Amount to be charged:\",7*D)\n",
        "else:\n",
        "   if w>100:\n",
        "      print(\"Amount to be charged:\",8*D)\n",
        "   else:\n",
        "      print(\"Amount to be charged:\",5*D)"
      ],
      "execution_count": 65,
      "outputs": [
        {
          "output_type": "stream",
          "text": [
            "distance to be travel:520\n",
            "weight of goods:50\n",
            "Amount to be charged: 3120\n"
          ],
          "name": "stdout"
        }
      ]
    },
    {
      "cell_type": "code",
      "metadata": {
        "id": "AdRg85av0_Eu",
        "colab_type": "code",
        "colab": {
          "base_uri": "https://localhost:8080/",
          "height": 68
        },
        "outputId": "28f16df0-f095-4478-a663-78a9544c42da"
      },
      "source": [
        "#QUESTION 3\n",
        "seat=input(\"select type of seat\") \n",
        "pay=input(\"mode of payment\")\n",
        "if seat==\"stall\":\n",
        "   cot=625\n",
        "elif seat==\"circle\": \n",
        "   cot=750\n",
        "elif seat==\"upper class\":\n",
        "   cot=850\n",
        "elif seat==\"Box\":\n",
        "   cot=1000\n",
        "else:\n",
        "   print(\"Invalid\")\n",
        "if pay=='cash':\n",
        "   cot=(cot-(cot*10)//100)\n",
        "else:\n",
        "   cot=(cot-(cot*5)//100)\n",
        "print(\"cost of ticket\",cot)"
      ],
      "execution_count": 66,
      "outputs": [
        {
          "output_type": "stream",
          "text": [
            "select type of seatcircle\n",
            "mode of paymentcash\n",
            "cost of ticket 675\n"
          ],
          "name": "stdout"
        }
      ]
    },
    {
      "cell_type": "code",
      "metadata": {
        "id": "xK8c4lGT4MdC",
        "colab_type": "code",
        "colab": {
          "base_uri": "https://localhost:8080/",
          "height": 105
        },
        "outputId": "776b11ec-03c7-40ad-b49a-de29fe3f7da4"
      },
      "source": [
        "#QUESTION 4\n",
        "M=float(input(\"Enter the amount of water in kilograms:\"))\n",
        "initialTemperature =float(input(\"Enter the initialTemperature of water in degree Celsius:\")) \n",
        "finalTemperature =float(input(\"Enter the finalTemperature of water in degree Celsius:\"))\n",
        "Q=M*(finalTemperature-initialTemperature)*4184\n",
        "print(f'Energy required to heat the water={Q}joules')"
      ],
      "execution_count": 35,
      "outputs": [
        {
          "output_type": "stream",
          "text": [
            "Enter the amount of water in kilograms:34\n",
            "Enter the initialTemperature of water in degree Celsius:36\n",
            "Enter the finalTemperature of water in degree Celsius:66\n",
            "Energy required to heat the water=4267680.0joules\n"
          ],
          "name": "stdout"
        }
      ]
    },
    {
      "cell_type": "code",
      "metadata": {
        "id": "CuRE1hxgQ_3d",
        "colab_type": "code",
        "colab": {
          "base_uri": "https://localhost:8080/",
          "height": 51
        },
        "outputId": "f92ee416-86c3-4747-d0b8-c368bac8bb3e"
      },
      "source": [
        "#QUESTION 5\n",
        "Month=input(\"Enter the month:\")\n",
        "if Month==\"December\" or Month==\"January\" or Month==\"February\":\n",
        "     print(\"Winter\")\n",
        "elif Month==\"March\" or Month==\"April\" or Month==\"May\":\n",
        "     print(\"Spring\") \n",
        "elif Month==\"June\" or Month==\"July\" or Month==\"August\": \n",
        "     print(\"Summer\") \n",
        "else:\n",
        "     print(\"Autumn\")"
      ],
      "execution_count": null,
      "outputs": [
        {
          "output_type": "stream",
          "text": [
            "Enter the month:July\n",
            "Summer\n"
          ],
          "name": "stdout"
        }
      ]
    },
    {
      "cell_type": "code",
      "metadata": {
        "id": "-rIDGw6-FZFA",
        "colab_type": "code",
        "colab": {
          "base_uri": "https://localhost:8080/",
          "height": 85
        },
        "outputId": "8eba7991-a491-42fc-8f3f-471e889d4973"
      },
      "source": [
        "#QUESTION 6\n",
        "W=int(input(\"Enter weight in pounds:\")) \n",
        "H=int(input(\"Enter height in inches:\"))\n",
        "m=float(0.45359237*W)\n",
        "n=float(0.0254*H)\n",
        "BMI=float(m/n**2)\n",
        "print(BMI)\n",
        "if(BMI<18.5):\n",
        "  print(\"Under weight\")\n",
        "elif(BMI>18.5 and BMI<25.0):\n",
        "  print(\"Normal\")\n",
        "elif(BMI>25.0 and BMI<30.0):\n",
        "  print(\"Overweight\") \n",
        "else:\n",
        "  print(\"Obesity\")"
      ],
      "execution_count": 57,
      "outputs": [
        {
          "output_type": "stream",
          "text": [
            "Enter weight in pounds:24\n",
            "Enter height in inches:15\n",
            "74.99408849484365\n",
            "Obesity\n"
          ],
          "name": "stdout"
        }
      ]
    },
    {
      "cell_type": "code",
      "metadata": {
        "id": "c9plqEenA_X3",
        "colab_type": "code",
        "colab": {
          "base_uri": "https://localhost:8080/",
          "height": 71
        },
        "outputId": "f2e86ece-adb6-4deb-852c-0df182bb5b37"
      },
      "source": [
        "#question 7\n",
        "i=int(input(\"Enter the elements between 100 and 1000:\" ))\n",
        "sum=0\n",
        "while i>0:\n",
        "  n=i%10\n",
        "  sum=sum+n\n",
        "  i=int(i/10)\n",
        "print(sum)"
      ],
      "execution_count": 58,
      "outputs": [
        {
          "output_type": "stream",
          "text": [
            "Enter the elements between 100 and 1000:745\n",
            "16\n"
          ],
          "name": "stdout"
        }
      ]
    },
    {
      "cell_type": "code",
      "metadata": {
        "id": "JF-1-OuutcXg",
        "colab_type": "code",
        "colab": {
          "base_uri": "https://localhost:8080/",
          "height": 54
        },
        "outputId": "cf8755d1-47ae-46eb-988c-83cb39c9cc45"
      },
      "source": [
        "#QUESTION 8\n",
        "for x in range(1,1001):\n",
        "  sum=0\n",
        "  temp=x\n",
        "  while x>0:\n",
        "       r=x%10\n",
        "       sum=sum*10+r\n",
        "       x=x//10\n",
        "  if temp==sum:\n",
        "       print(temp,end=\" \")"
      ],
      "execution_count": 38,
      "outputs": [
        {
          "output_type": "stream",
          "text": [
            "1 2 3 4 5 6 7 8 9 11 22 33 44 55 66 77 88 99 101 111 121 131 141 151 161 171 181 191 202 212 222 232 242 252 262 272 282 292 303 313 323 333 343 353 363 373 383 393 404 414 424 434 444 454 464 474 484 494 505 515 525 535 545 555 565 575 585 595 606 616 626 636 646 656 666 676 686 696 707 717 727 737 747 757 767 777 787 797 808 818 828 838 848 858 868 878 888 898 909 919 929 939 949 959 969 979 989 999 "
          ],
          "name": "stdout"
        }
      ]
    },
    {
      "cell_type": "code",
      "metadata": {
        "id": "FK0tVHU08_HI",
        "colab_type": "code",
        "colab": {
          "base_uri": "https://localhost:8080/",
          "height": 34
        },
        "outputId": "25c99b21-bb68-40bb-e63b-4149223eca39"
      },
      "source": [
        "#QUESTION 9\n",
        "for x in range(1,1001):\n",
        "    sum=0\n",
        "    temp=x\n",
        "    while x>0:\n",
        "      n=x%10\n",
        "      sum+=n*n*n\n",
        "      x=x//10\n",
        "    if sum==temp:\n",
        "      print(temp,end=\" \")"
      ],
      "execution_count": 46,
      "outputs": [
        {
          "output_type": "stream",
          "text": [
            "1 153 370 371 407 "
          ],
          "name": "stdout"
        }
      ]
    },
    {
      "cell_type": "code",
      "metadata": {
        "id": "G11LrZYELHNt",
        "colab_type": "code",
        "colab": {
          "base_uri": "https://localhost:8080/",
          "height": 1000
        },
        "outputId": "413a6ef5-b6b4-4b05-e8b4-f12394fa0ff1"
      },
      "source": [
        "#QUESTION 10\n",
        "for i in range(1,101):\n",
        "    if i%3==0 and i%5==0:\n",
        "       print(\"fizz buzz\")\n",
        "    elif i % 3==0:\n",
        "       print(\"Fizz\") \n",
        "    elif i % 5==0:\n",
        "       print(\"Buzz\")\n",
        "    else:\n",
        "       print(i)"
      ],
      "execution_count": null,
      "outputs": [
        {
          "output_type": "stream",
          "text": [
            "1\n",
            "2\n",
            "Fizz\n",
            "4\n",
            "Buzz\n",
            "Fizz\n",
            "7\n",
            "8\n",
            "Fizz\n",
            "Buzz\n",
            "11\n",
            "Fizz\n",
            "13\n",
            "14\n",
            "fizz buzz\n",
            "16\n",
            "17\n",
            "Fizz\n",
            "19\n",
            "Buzz\n",
            "Fizz\n",
            "22\n",
            "23\n",
            "Fizz\n",
            "Buzz\n",
            "26\n",
            "Fizz\n",
            "28\n",
            "29\n",
            "fizz buzz\n",
            "31\n",
            "32\n",
            "Fizz\n",
            "34\n",
            "Buzz\n",
            "Fizz\n",
            "37\n",
            "38\n",
            "Fizz\n",
            "Buzz\n",
            "41\n",
            "Fizz\n",
            "43\n",
            "44\n",
            "fizz buzz\n",
            "46\n",
            "47\n",
            "Fizz\n",
            "49\n",
            "Buzz\n",
            "Fizz\n",
            "52\n",
            "53\n",
            "Fizz\n",
            "Buzz\n",
            "56\n",
            "Fizz\n",
            "58\n",
            "59\n",
            "fizz buzz\n",
            "61\n",
            "62\n",
            "Fizz\n",
            "64\n",
            "Buzz\n",
            "Fizz\n",
            "67\n",
            "68\n",
            "Fizz\n",
            "Buzz\n",
            "71\n",
            "Fizz\n",
            "73\n",
            "74\n",
            "fizz buzz\n",
            "76\n",
            "77\n",
            "Fizz\n",
            "79\n",
            "Buzz\n",
            "Fizz\n",
            "82\n",
            "83\n",
            "Fizz\n",
            "Buzz\n",
            "86\n",
            "Fizz\n",
            "88\n",
            "89\n",
            "fizz buzz\n",
            "91\n",
            "92\n",
            "Fizz\n",
            "94\n",
            "Buzz\n",
            "Fizz\n",
            "97\n",
            "98\n",
            "Fizz\n",
            "Buzz\n"
          ],
          "name": "stdout"
        }
      ]
    },
    {
      "cell_type": "code",
      "metadata": {
        "id": "9BsaKdKtLX4O",
        "colab_type": "code",
        "colab": {
          "base_uri": "https://localhost:8080/",
          "height": 105
        },
        "outputId": "95989c6e-865a-4711-8824-1df6070f6100"
      },
      "source": [
        "#QUESTION 11\n",
        "h=int(input(\"Enter the height of well=\"))\n",
        "p=int(input(\"Enter the meters which are climbed=\"))\n",
        "q=int(input(\"Enter slips down=\"))\n",
        "S=((h-p)+(p-q))//(p-q)\n",
        "print(S+1)"
      ],
      "execution_count": 63,
      "outputs": [
        {
          "output_type": "stream",
          "text": [
            "Enter the height of well=150\n",
            "Enter the meters which are climbed=30\n",
            "Enter slips down=2\n",
            "6\n"
          ],
          "name": "stdout"
        }
      ]
    }
  ]
}